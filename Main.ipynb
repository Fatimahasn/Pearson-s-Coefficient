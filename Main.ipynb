{
  "cells": [
    {
      "cell_type": "code",
      "execution_count": null,
      "metadata": {
        "scrolled": true,
        "id": "GxXybyZgOdar",
        "outputId": "6da10bbc-d674-47ca-cd32-fb39deaec7fc"
      },
      "outputs": [
        {
          "name": "stdout",
          "output_type": "stream",
          "text": [
            "Pearson's correlation Matrix: \n",
            "[[1.         0.99660709 0.99739663 ... 0.70898277 0.68625679 0.68483481]\n",
            " [0.99660709 1.         0.99833348 ... 0.65755616 0.63763128 0.6368058 ]\n",
            " [0.99739663 0.99833348 1.         ... 0.69453831 0.67773676 0.67722497]\n",
            " ...\n",
            " [0.70898277 0.65755616 0.69453831 ... 1.         0.99570813 0.99446012]\n",
            " [0.68625679 0.63763128 0.67773676 ... 0.99570813 1.         0.99991588]\n",
            " [0.68483481 0.6368058  0.67722497 ... 0.99446012 0.99991588 1.        ]]\n",
            "Discretized Form Matrix: \n",
            "[[1. 1. 1. ... 0. 0. 0.]\n",
            " [1. 1. 1. ... 0. 0. 0.]\n",
            " [1. 1. 1. ... 0. 0. 0.]\n",
            " ...\n",
            " [0. 0. 0. ... 1. 1. 1.]\n",
            " [0. 0. 0. ... 1. 1. 1.]\n",
            " [0. 0. 0. ... 1. 1. 1.]]\n"
          ]
        },
        {
          "data": {
            "image/png": "[encoded data removed]",
            "text/plain": [
              "<Figure size 432x288 with 1 Axes>"
            ]
          },
          "metadata": {
            "needs_background": "light"
          },
          "output_type": "display_data"
        },
        {
          "data": {
            "text/plain": [
              "<Figure size 432x288 with 0 Axes>"
            ]
          },
          "metadata": {},
          "output_type": "display_data"
        }
      ],
      "source": [
        "import pandas as pd\n",
        "from statistics import mean\n",
        "import numpy as np\n",
        "import matplotlib.pyplot as plt\n",
        "import math\n",
        "\n",
        "def update_columns(r,crr,M):\n",
        "    cols=crr.shape[0]\n",
        "    for c in range(cols):\n",
        "        if(crr[r][c]<M):\n",
        "            crr[r][c]=0\n",
        "        else:\n",
        "            crr[r][c]=1\n",
        "\n",
        "def Mean(num):\n",
        "    Sum=0\n",
        "    for i in num:\n",
        "        Sum+=i\n",
        "    return Sum/len(num)\n",
        "\n",
        "\n",
        "def Pearson(i,j):\n",
        "    numerator=0\n",
        "    denominator=0\n",
        "    x = [var-Mean(i) for var in i] #(X-Mean(X))\n",
        "\n",
        "    y = [var-Mean(j) for var in j] #(Y-Mean(Y))\n",
        "    xy = [num_1 * num_2 for num_1, num_2 in list(zip(x,y))]\n",
        "    numerator = sum(xy)\n",
        "    X= [((var-Mean(i))**2) for var in i] #(X-Mean(X))^2\n",
        "    Y= [((var-Mean(j))**2) for var in j] #(Y-Mean(Y))^2\n",
        "    denominator=math.sqrt(sum(X)*sum(Y))\n",
        "\n",
        "    return numerator/denominator\n",
        "\n",
        "\n",
        "\n",
        "df = pd.read_csv(\"iris.data\")\n",
        "df.columns = [\"sepal_length\", \"sepal_width\", \"petal_length\", \"petal_width\", \"class\"]\n",
        "df=np.array(df.drop([\"class\"], axis = 1))\n",
        "matrix=[]\n",
        "for i in df:\n",
        "    a =[] \n",
        "    for j in df:\n",
        "        #Calculate Pearson's coefficient \n",
        "        P=Pearson(i,j)\n",
        "        a.append(P)\n",
        "    matrix.append(a)\n",
        "crr=pd.DataFrame(matrix)\n",
        "corr_matrix=np.matrix(crr)\n",
        "print(\"Pearson's correlation Matrix: \")  \n",
        "print(corr_matrix)\n",
        "cols=0\n",
        "for i in crr:\n",
        "    update_columns(cols,crr,Mean(crr[i])) \n",
        "    cols+=1\n",
        "D_matrix=np.matrix(crr).transpose()\n",
        "print('Discretized Form Matrix: ')  \n",
        "print(D_matrix)\n",
        "#Plot bitmap of values\n",
        "plt.imshow(D_matrix,cmap=\"gray\")\n",
        "plt.show()\n",
        "plt.savefig('fig.png')"
      ]
    }
  ],
  "metadata": {
    "kernelspec": {
      "display_name": "Python 3",
      "language": "python",
      "name": "python3"
    },
    "language_info": {
      "codemirror_mode": {
        "name": "ipython",
        "version": 3
      },
      "file_extension": ".py",
      "mimetype": "text/x-python",
      "name": "python",
      "nbconvert_exporter": "python",
      "pygments_lexer": "ipython3",
      "version": "3.8.5"
    },
    "colab": {
      "provenance": []
    }
  },
  "nbformat": 4,
  "nbformat_minor": 0
}